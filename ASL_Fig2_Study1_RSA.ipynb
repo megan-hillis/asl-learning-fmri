{
 "cells": [
  {
   "cell_type": "code",
   "execution_count": null,
   "id": "083f20ce-b74c-40ff-95bf-ecf59c3b3725",
   "metadata": {},
   "outputs": [],
   "source": [
    "# Fall 2024 - MH\n",
    "# Environment: fmri_stats\n",
    "# Organize and plot group-level word2vec RSA results for Study 1"
   ]
  },
  {
   "cell_type": "code",
   "execution_count": 10,
   "id": "790351fc-b142-4c0d-9d82-f15d4c725a18",
   "metadata": {},
   "outputs": [],
   "source": [
    "# SET-UP\n",
    "import numpy as np\n",
    "import pandas as pd\n",
    "import scipy.stats as st\n",
    "import copy\n",
    "import pickle\n",
    "from nltools.stats import one_sample_permutation\n",
    "\n",
    "import matplotlib.pyplot as plt\n",
    "from matplotlib.colors import ListedColormap\n",
    "\n",
    "n_parcs=500\n",
    "\n",
    "base_dir = '/dartfs-hpc/rc/lab/K/KraemerD/ASL1-2_combined/'\n",
    "rsa_dir=base_dir+'data/rsa/'\n",
    "\n",
    "%run '/dartfs-hpc/rc/lab/K/KraemerD/ASL1-2_combined/scripts/asl_combo_functions_surface_plotting.py'"
   ]
  },
  {
   "cell_type": "markdown",
   "id": "a426be0e-a2c5-473e-8cfb-bc3ab25d99b4",
   "metadata": {},
   "source": [
    "# Figure 2: Overlap map of RSA results for English and ASL, ASL group"
   ]
  },
  {
   "cell_type": "markdown",
   "id": "a6a87bf1-3373-4bd6-ac9b-be87362c10d3",
   "metadata": {},
   "source": [
    "### Read in RSA Z scores"
   ]
  },
  {
   "cell_type": "code",
   "execution_count": 2,
   "id": "dfd17c05-a2b6-4f1a-94b0-80bcee013db4",
   "metadata": {},
   "outputs": [],
   "source": [
    "eng_stats = pd.read_csv(rsa_dir+'asl1_word2vec_grpASL_eng_Schaefer500_stats_rsa_normed.csv')\n",
    "asl_stats = pd.read_csv(rsa_dir+'asl1_word2vec_weighted_grpASL_asl_Schaefer500_stats_rsa_normed.csv')"
   ]
  },
  {
   "cell_type": "code",
   "execution_count": 5,
   "id": "a76c8730-9444-4cb7-bd23-063006fec02e",
   "metadata": {},
   "outputs": [],
   "source": [
    "parc_vals = [0]*n_parcs\n",
    "pval = 0.05\n",
    "\n",
    "for p in range(len(parc_vals)):\n",
    "    if eng_stats['mean'][p]>=0 and eng_stats['p'][p]<pval: # if this parc is in eng map\n",
    "        if asl_stats['mean'][p]>=0 and asl_stats['p'][p]<pval: # if this parc is ALSO in asl map\n",
    "            parc_vals[p] = 2.\n",
    "        else:        \n",
    "            parc_vals[p] = 3.\n",
    "\n",
    "    elif asl_stats['mean'][p]>=0 and asl_stats['p'][p]<pval: # if this parc is only in asl map\n",
    "        parc_vals[p] = 1.\n"
   ]
  },
  {
   "cell_type": "code",
   "execution_count": null,
   "id": "cd8b957a-3e66-4eab-9fb6-0d87ab962f21",
   "metadata": {},
   "outputs": [],
   "source": [
    "colorlist = ['#faeb2c', '#2cd600', '#1685f8'] # yellow-green-blue cmap\n",
    "customcmap = ListedColormap(colorlist)\n",
    "\n",
    "rh_masked, lh_masked = parc_list_to_surf(parc_vals, n_parcs)\n",
    "\n",
    "fn = base_dir+'figures/asl1_word2vec_ENG-ASL_overlap_p'+str(pval)\n",
    "four_panel_surfplot(rh_masked, lh_masked,fn,title=\"ASL1_word2vec_ENG-ASL_overlap_p<\"+str(pval),bg_on_data=True,colormap=customcmap,cmap_method='range')\n",
    "\n",
    "fn = base_dir+'figures/asl1_word2vec_ENG-ASL_overlap_p'+str(pval)+'_dorsal_ventral'\n",
    "dors_vent_surfplot(rh_masked, lh_masked,fn,title=\"ASL1_word2vec_ENG-ASL_overlap_p<\"+str(pval),bg_on_data=True,colormap=customcmap,cmap_method='range')"
   ]
  },
  {
   "cell_type": "markdown",
   "id": "710f34b6-2ce3-4799-b6fa-541a68f06750",
   "metadata": {},
   "source": [
    "# Supplementary Figure 1A: Unknown (Russian) Stimuli"
   ]
  },
  {
   "cell_type": "code",
   "execution_count": 6,
   "id": "f68743db-4346-4bfd-a352-f80d4fd38972",
   "metadata": {},
   "outputs": [],
   "source": [
    "colorlist = ['#2072b1','#db141e']\n",
    "customcmap = ListedColormap(colorlist)\n",
    "\n",
    "w2v = pd.read_csv(rsa_dir+'asl1_word2vec_weighted_grpASL_russ_Schaefer500_stats_rsa_normed.csv')\n",
    "aud = pd.read_csv(rsa_dir+'asl1_russ_auditory_weighted_grpASL_russ_Schaefer500_stats_rsa_normed.csv')"
   ]
  },
  {
   "cell_type": "code",
   "execution_count": 7,
   "id": "0a2e7f5b-79c7-49c5-89c1-a89898bc5a0a",
   "metadata": {},
   "outputs": [],
   "source": [
    "parc_vals = [0]*n_parcs\n",
    "pval = 0.05\n",
    "\n",
    "for p in range(len(parc_vals)):\n",
    "    if w2v['mean'][p]>=0 and w2v['p'][p]<pval: # if this parc is in word2vec map\n",
    "        if aud['mean'][p]>=0 and aud['p'][p]<pval: # if this parc is ALSO in auditory map\n",
    "            print(\"Unexpected overlapping parcel...\")\n",
    "        else:        \n",
    "            parc_vals[p] = 1.\n",
    "\n",
    "    elif aud['mean'][p]>=0 and aud['p'][p]<pval: # if this parc is only in auditory map\n",
    "        parc_vals[p] = 3."
   ]
  },
  {
   "cell_type": "code",
   "execution_count": null,
   "id": "526a6947-3b05-4109-91c2-000477fa19e2",
   "metadata": {},
   "outputs": [],
   "source": [
    "rh_masked, lh_masked = parc_list_to_surf(parc_vals, n_parcs)\n",
    "\n",
    "fn = base_dir+'figures/asl1_grpASL_russ_all_model_overlap_p'+str(pval)\n",
    "four_panel_surfplot(rh_masked, lh_masked,fn,title=\"ASL1+2_grpASL_russ_WeightedRSA_overlap_p<\"+str(pval),bg_on_data=True,colormap=customcmap,cmap_method='range')"
   ]
  }
 ],
 "metadata": {
  "kernelspec": {
   "display_name": "Python 3 (ipykernel)",
   "language": "python",
   "name": "python3"
  },
  "language_info": {
   "codemirror_mode": {
    "name": "ipython",
    "version": 3
   },
   "file_extension": ".py",
   "mimetype": "text/x-python",
   "name": "python",
   "nbconvert_exporter": "python",
   "pygments_lexer": "ipython3",
   "version": "3.10.15"
  }
 },
 "nbformat": 4,
 "nbformat_minor": 5
}
