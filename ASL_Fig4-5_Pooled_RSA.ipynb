{
 "cells": [
  {
   "cell_type": "code",
   "execution_count": null,
   "id": "083f20ce-b74c-40ff-95bf-ecf59c3b3725",
   "metadata": {},
   "outputs": [],
   "source": [
    "# Fall 2024 - MH\n",
    "# Environment: fmri_stats\n",
    "# Organize and plot group-level RSA results pooled across studies 1 & 2"
   ]
  },
  {
   "cell_type": "code",
   "execution_count": 3,
   "id": "790351fc-b142-4c0d-9d82-f15d4c725a18",
   "metadata": {},
   "outputs": [],
   "source": [
    "# SET-UP\n",
    "import numpy as np\n",
    "import pandas as pd\n",
    "import scipy.stats as st\n",
    "import copy\n",
    "import pickle\n",
    "from nltools.stats import one_sample_permutation\n",
    "\n",
    "import matplotlib.pyplot as plt\n",
    "from matplotlib.colors import ListedColormap\n",
    "\n",
    "n_parcs=500\n",
    "\n",
    "base_dir = '/dartfs-hpc/rc/lab/K/KraemerD/ASL1-2_combined/'\n",
    "rsa_dir=base_dir+'data/rsa/'\n",
    "\n",
    "%run '/dartfs-hpc/rc/lab/K/KraemerD/ASL1-2_combined/scripts/asl_combo_functions_surface_plotting.py'"
   ]
  },
  {
   "cell_type": "markdown",
   "id": "d0a931bf-6e33-46c6-bdea-de8da617cc0d",
   "metadata": {},
   "source": [
    "# Group-Level T-test at each parcel from normed RSA correlations"
   ]
  },
  {
   "cell_type": "markdown",
   "id": "a2fd816a-f728-4f27-a671-47f5d08cadbf",
   "metadata": {},
   "source": [
    "### English"
   ]
  },
  {
   "cell_type": "code",
   "execution_count": 7,
   "id": "47885c14-cd86-4601-ab17-0150d65de630",
   "metadata": {},
   "outputs": [],
   "source": [
    "rsa_dict = {}\n",
    "words='eng'\n",
    "model='word2vec'\n",
    "\n",
    "rsa_dict[model] = [[]]*n_parcs\n",
    "\n",
    "files=[rsa_dir+'corrs/'+model+'_grpASL_eng_Schaefer500_corrs_normed.pkl',\n",
    "       rsa_dir+'corrs/'+model+'_allsubs_asl2_eng_all_by_group_Schaefer500_corrs_normed.pkl']\n",
    "\n",
    "for s in range(len(files)):\n",
    "    corrs = pickle.load(open(files[s], 'rb' ))\n",
    "\n",
    "    for parc in range(n_parcs):\n",
    "        rsa_dict[model][parc] = rsa_dict[model][parc]+list(corrs[parc])\n",
    "\n",
    "results_dict = {}\n",
    "\n",
    "results_dict[model+'_Z'] = []\n",
    "results_dict[model+'_p']=[]\n",
    "for parc in range(len(rsa_dict[model])):\n",
    "    test = one_sample_permutation(rsa_dict[model][parc])\n",
    "    results_dict[model+'_Z'].append(test['mean'])\n",
    "    results_dict[model+'_p'].append(test['p'])\n",
    "\n",
    "df = pd.DataFrame(results_dict)\n",
    "pd.DataFrame(results_dict).to_csv(rsa_dir+'combo_'+model+'_allsub_eng_scores.csv',index=False)"
   ]
  },
  {
   "cell_type": "markdown",
   "id": "f5dec9bd-bc77-4f4c-9782-b5ec95eba9e0",
   "metadata": {},
   "source": [
    "### ASL-Known"
   ]
  },
  {
   "cell_type": "code",
   "execution_count": null,
   "id": "0714953c-e187-41a2-b217-8a14e2fb7458",
   "metadata": {},
   "outputs": [],
   "source": [
    "rsa_dict = {}\n",
    "words='asl-known'\n",
    "model='word2vec_weighted' # toggle between word2vec_weighted, nonsigner_iconicity_weighted, and asl-lex_weighted\n",
    "\n",
    "rsa_dict[model] = [[]]*n_parcs\n",
    "\n",
    "files=[rsa_dir+'corrs/'+model+'_grpASL_asl_Schaefer500_corrs_normed.pkl',\n",
    "   rsa_dir+'corrs/'+model+'_grp1_asl2_words1_Schaefer500_corrs_normed.pkl',\n",
    "   rsa_dir+'corrs/'+model+'_grp2_asl2_words2_Schaefer500_corrs_normed.pkl']\n",
    "\n",
    "results_dict = {}\n",
    "\n",
    "results_dict[model+'_Z'] = []\n",
    "results_dict[model+'_p']=[]\n",
    "for parc in range(len(rsa_dict[model])):\n",
    "    test = one_sample_permutation(rsa_dict[model][parc])\n",
    "    results_dict[model+'_Z'].append(test['mean'])\n",
    "    results_dict[model+'_p'].append(test['p'])\n",
    "\n",
    "pd.DataFrame(results_dict).to_csv(rsa_dir+'combo_'+model+'_allsub_asl-known_scores.csv',index=False)"
   ]
  },
  {
   "cell_type": "markdown",
   "id": "475b5d44-8c68-48db-9bf6-0e8036d12e61",
   "metadata": {},
   "source": [
    "### ASL-Unknown"
   ]
  },
  {
   "cell_type": "code",
   "execution_count": null,
   "id": "fde3784f-afbb-46bc-b9e3-558828017e27",
   "metadata": {},
   "outputs": [],
   "source": [
    "rsa_dict = {}\n",
    "words='asl-unknown'\n",
    "model='word2vec_weighted' # toggle between word2vec_weighted, nonsigner_iconicity_weighted, and asl-lex_weighted\n",
    "\n",
    "rsa_dict[model] = [[]]*n_parcs\n",
    "\n",
    "files=[rsa_dir+'corrs/'+model+'_grpASL_asl_Schaefer500_corrs_normed.pkl',\n",
    "   rsa_dir+'corrs/'+model+'_grp1_asl2_words2_Schaefer500_corrs_normed.pkl',\n",
    "   rsa_dir+'corrs/'+model+'_grp2_asl2_words1_Schaefer500_corrs_normed.pkl']\n",
    "\n",
    "results_dict = {}\n",
    "\n",
    "results_dict[model+'_Z'] = []\n",
    "results_dict[model+'_p']=[]\n",
    "for parc in range(len(rsa_dict[model])):\n",
    "    test = one_sample_permutation(rsa_dict[model][parc])\n",
    "    results_dict[model+'_Z'].append(test['mean'])\n",
    "    results_dict[model+'_p'].append(test['p'])\n",
    "\n",
    "pd.DataFrame(results_dict).to_csv(rsa_dir+'combo_'+model+'_allsub_asl-unknown_scores.csv',index=False)"
   ]
  },
  {
   "cell_type": "markdown",
   "id": "a426be0e-a2c5-473e-8cfb-bc3ab25d99b4",
   "metadata": {},
   "source": [
    "# Figure 4: Overlap map of Pooled RSA results for English and ASL"
   ]
  },
  {
   "cell_type": "markdown",
   "id": "a6a87bf1-3373-4bd6-ac9b-be87362c10d3",
   "metadata": {},
   "source": [
    "### Read in RSA Z scores"
   ]
  },
  {
   "cell_type": "code",
   "execution_count": 8,
   "id": "dfd17c05-a2b6-4f1a-94b0-80bcee013db4",
   "metadata": {},
   "outputs": [],
   "source": [
    "eng_stats = pd.read_csv(rsa_dir+'combo_word2vec_allsub_eng_scores.csv')\n",
    "asl_stats = pd.read_csv(rsa_dir+'combo_word2vec_weighted_allsub_asl-known_scores.csv')"
   ]
  },
  {
   "cell_type": "code",
   "execution_count": 5,
   "id": "a76c8730-9444-4cb7-bd23-063006fec02e",
   "metadata": {},
   "outputs": [],
   "source": [
    "parc_vals = [0]*n_parcs\n",
    "pval = 0.05\n",
    "\n",
    "for p in range(len(parc_vals)):\n",
    "    if eng_stats['mean'][p]>=0 and eng_stats['p'][p]<pval: # if this parc is in eng map\n",
    "        if asl_stats['mean'][p]>=0 and asl_stats['p'][p]<pval: # if this parc is ALSO in asl map\n",
    "            parc_vals[p] = 2.\n",
    "        else:        \n",
    "            parc_vals[p] = 3.\n",
    "\n",
    "    elif asl_stats['mean'][p]>=0 and asl_stats['p'][p]<pval: # if this parc is only in asl map\n",
    "        parc_vals[p] = 1.\n"
   ]
  },
  {
   "cell_type": "code",
   "execution_count": null,
   "id": "cd8b957a-3e66-4eab-9fb6-0d87ab962f21",
   "metadata": {},
   "outputs": [],
   "source": [
    "colorlist = ['#faeb2c', '#2cd600', '#1685f8'] # yellow-green-blue cmap\n",
    "customcmap = ListedColormap(colorlist)\n",
    "\n",
    "rh_masked, lh_masked = parc_list_to_surf(parc_vals, n_parcs)\n",
    "\n",
    "fn = base_dir+'figures/combined_studies_word2vec_ENG-ASL_overlap_p'+str(pval)\n",
    "four_panel_surfplot(rh_masked, lh_masked,fn,title=\"ASL1+2_word2vec_ENG-ASL_overlap_p<\"+str(pval),bg_on_data=True,colormap=customcmap,cmap_method='range')\n",
    "\n",
    "fn = base_dir+'figures/combined_studies_word2vec_ENG-ASL_overlap_p'+str(pval)+'_dorsal_ventral'\n",
    "dors_vent_surfplot(rh_masked, lh_masked,fn,title=\"ASL1+2_word2vec_ENG-ASL_overlap_p<\"+str(pval),bg_on_data=True,colormap=customcmap,cmap_method='range')"
   ]
  },
  {
   "cell_type": "markdown",
   "id": "87c91393-48a2-4679-9d1a-6151a79da0fb",
   "metadata": {},
   "source": [
    "# Figure 5: Overlap of Word2Vec, ASL-LEX, and Nonsigner-Rated Iconicity results"
   ]
  },
  {
   "cell_type": "code",
   "execution_count": 9,
   "id": "9e533b9f-53b5-47df-880f-63d3703ff2cf",
   "metadata": {},
   "outputs": [],
   "source": [
    "colorlist = ['#2072b1','#db141e','#fbb0ba']\n",
    "customcmap = ListedColormap(colorlist)\n",
    "pval = 0.05\n",
    "\n",
    "words = ['asl-known','asl-unknown']\n",
    "models = ['word2vec_weighted','asl-lex_weighted','nonsignericonicity_weighted']\n",
    "\n",
    "sigparc_dict={}\n",
    "\n",
    "for m in models:\n",
    "    for w in words:\n",
    "        stats = pd.read_csv(rsa_dir+'combo_'+m+'_allsub_'+w+'_scores.csv')\n",
    "        sigparc_dict[str(m+'_'+w)] = list(stats[(stats[m+'_p']<pval) & (stats[m+'_Z']>=0)].index)\n",
    "        \n",
    "# print results/check for parcels that appear in more than one map - orthogonalization of DMs should make this unlikely\n",
    "# for key in sigparc_dict.keys():\n",
    "#     print(\"There are \"+str(len(sigparc_dict[key]))+\" sig parcs in the RSA for \"+key)\n",
    "#     print(list(sigparc_dict[key]))\n",
    "#     for otherkey in [x for x in sigparc_dict.keys() if x != key]:\n",
    "#         overlappers = [y for y in sigparc_dict[otherkey] if y in sigparc_dict[key]]\n",
    "#         if len(overlappers) > 0:\n",
    "#             print(str(len(overlappers)),\"overlap with \",otherkey,\": \",list(overlappers))\n",
    "#     print(\"\")\n",
    "#     print(\"\")"
   ]
  },
  {
   "cell_type": "code",
   "execution_count": 11,
   "id": "fa1ac273-07a7-4a55-9169-7222317587b0",
   "metadata": {},
   "outputs": [],
   "source": [
    "words = 'asl-known' # toggle between asl-known for Figure 5, asl-unknown for Supplementary Figure 1B\n",
    "parc_vals = [0]*n_parcs\n",
    "\n",
    "for p in range(len(parc_vals)):\n",
    "    if p in sigparc_dict['word2vec_weighted_'+words]:\n",
    "        parc_vals[p] = 1.\n",
    "    elif p in sigparc_dict['asl-lex_weighted_'+words]:\n",
    "        parc_vals[p] = 2.\n",
    "    elif p in sigparc_dict['nonsignericonicity_weighted_'+words]:\n",
    "        parc_vals[p] = 3."
   ]
  },
  {
   "cell_type": "code",
   "execution_count": null,
   "id": "6c843d68-8b25-4110-9ace-fbc76aaf3b9e",
   "metadata": {},
   "outputs": [],
   "source": [
    "rh_masked, lh_masked = parc_list_to_surf(parc_vals, n_parcs)\n",
    "\n",
    "fn = base_dir+'figures/combinedstudies_all_model_overlap_'+words+'_p'+str(pval)\n",
    "four_panel_surfplot(rh_masked, lh_masked,fn,title=\"ASL1+2_\"+words+\"_WeightedRSA_overlap_p<\"+str(pval),bg_on_data=True,colormap=customcmap,cmap_method='range')\n",
    "\n",
    "fn = base_dir+'figures/combined_studies_all_model_overlap_'+words+'_p'+str(pval)+'_dorsal_ventral'\n",
    "dors_vent_surfplot(rh_masked, lh_masked,fn,title=\"ASL1+2_\"+words+\"_WeightedRSA_overlap_p<\"+str(pval),bg_on_data=True,colormap=customcmap,cmap_method='range')"
   ]
  }
 ],
 "metadata": {
  "kernelspec": {
   "display_name": "Python 3 (ipykernel)",
   "language": "python",
   "name": "python3"
  },
  "language_info": {
   "codemirror_mode": {
    "name": "ipython",
    "version": 3
   },
   "file_extension": ".py",
   "mimetype": "text/x-python",
   "name": "python",
   "nbconvert_exporter": "python",
   "pygments_lexer": "ipython3",
   "version": "3.10.15"
  }
 },
 "nbformat": 4,
 "nbformat_minor": 5
}
